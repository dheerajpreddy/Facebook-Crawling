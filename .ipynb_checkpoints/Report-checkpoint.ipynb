{
 "cells": [
  {
   "cell_type": "markdown",
   "metadata": {},
   "source": [
    "# PSOSM Assignment 2"
   ]
  },
  {
   "cell_type": "markdown",
   "metadata": {},
   "source": [
    "## Facebook Graph API"
   ]
  },
  {
   "cell_type": "code",
   "execution_count": 18,
   "metadata": {},
   "outputs": [],
   "source": [
    "import facebook, json, ast"
   ]
  },
  {
   "cell_type": "code",
   "execution_count": 15,
   "metadata": {},
   "outputs": [],
   "source": [
    "token = \"EAAHH6Hycz8oBALZABeTlHcZBuPxM9kN7Dqc0hOZAtoP7aQgpmLjrrTvwgPRIZC7QWZBF8fZAUuodCnvLF5wptuRvap50srCK0JZCYIBEREMM192x9r2WeNqoxLhwMywqD5EI5I5juxjQssq29Gt7wIHTJmmf7DyHBieZCoTZCKVYrxXt2dGYi23hVTx70hTvSXKZAwwWOJibwTPQZDZD\"\n",
    "version = \"2.12\"\n",
    "graph = facebook.GraphAPI(access_token=token, version=version)"
   ]
  },
  {
   "cell_type": "markdown",
   "metadata": {},
   "source": [
    "### Collecting posts in news feed"
   ]
  },
  {
   "cell_type": "markdown",
   "metadata": {},
   "source": [
    "It is not possible to collect the news feed of a user since an application requires the `user_posts` permission from the user. For the application to request such permission, it first needs to be approved from the Facebook development team. Since I do not have such approval from the Facebook team, I skipped this question.\n",
    "\n",
    "However, if I did have approval, the Python code would be as follows:-\n",
    "```python\n",
    "news_feed = graph.request(\"/me/home\")\n",
    "```\n",
    "\n",
    "Reference: [Facebook documentation](https://developers.facebook.com/docs/facebook-login/permissions/#reference-user_posts)"
   ]
  },
  {
   "cell_type": "markdown",
   "metadata": {},
   "source": [
    "### Collecting posts in timeline"
   ]
  },
  {
   "cell_type": "code",
   "execution_count": 22,
   "metadata": {},
   "outputs": [],
   "source": [
    "# Using ast to remove unicode characters, found this neat hack online\n",
    "timeline = ast.literal_eval(json.dumps(graph.request(\"/me/feed\")))"
   ]
  },
  {
   "cell_type": "markdown",
   "metadata": {},
   "source": [
    "### Finding reactions of a post"
   ]
  },
  {
   "cell_type": "code",
   "execution_count": 29,
   "metadata": {},
   "outputs": [],
   "source": [
    "def getReactions(post_id):\n",
    "    reacts = graph.request(\"/\" + post_id + \"?fields=reactions.type(LOVE).limit(0).summary(total_count).as(reactions_love),reactions.type(WOW).limit(0).summary(total_count).as(reactions_wow),reactions.type(HAHA).limit(0).summary(total_count).as(reactions_haha),reactions.type(LIKE).limit(0).summary(total_count).as(reactions_like),reactions.type(ANGRY).limit(0).summary(total_count).as(reactions_angry)\")\n",
    "    reacts = ast.literal_eval(json.dumps(reacts))\n",
    "    return reacts"
   ]
  },
  {
   "cell_type": "code",
   "execution_count": 32,
   "metadata": {},
   "outputs": [],
   "source": [
    "timeline_reacts = []\n",
    "for post in timeline['data']:\n",
    "    timeline_reacts.append(getReactions(post['id']))"
   ]
  },
  {
   "cell_type": "code",
   "execution_count": null,
   "metadata": {},
   "outputs": [],
   "source": []
  }
 ],
 "metadata": {
  "kernelspec": {
   "display_name": "Python 2",
   "language": "python",
   "name": "python2"
  },
  "language_info": {
   "codemirror_mode": {
    "name": "ipython",
    "version": 2
   },
   "file_extension": ".py",
   "mimetype": "text/x-python",
   "name": "python",
   "nbconvert_exporter": "python",
   "pygments_lexer": "ipython2",
   "version": "2.7.15"
  }
 },
 "nbformat": 4,
 "nbformat_minor": 2
}
